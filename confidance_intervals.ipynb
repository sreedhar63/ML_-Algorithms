{
  "nbformat": 4,
  "nbformat_minor": 0,
  "metadata": {
    "colab": {
      "provenance": [],
      "toc_visible": true
    },
    "kernelspec": {
      "name": "python3",
      "display_name": "Python 3"
    },
    "language_info": {
      "name": "python"
    }
  },
  "cells": [
    {
      "cell_type": "code",
      "execution_count": 3,
      "metadata": {
        "id": "uX9MlmCzs_Z-"
      },
      "outputs": [],
      "source": [
        "import numpy as np\n",
        "import pandas as pd\n",
        "import matplotlib.pyplot as plt\n",
        "import seaborn as sns\n",
        "import warnings\n",
        "warnings.filterwarnings('ignore')\n",
        "from scipy import stats"
      ]
    },
    {
      "cell_type": "code",
      "source": [
        "durability = pd.Series([1.13, 1.55, 1.43, 0.92, 1.25, 1.36, 1.32, 0.85, 1.07, 1.48, 1.20, 1.33, 1.18, 1.22, 1.29])\n",
        "durability\n"
      ],
      "metadata": {
        "colab": {
          "base_uri": "https://localhost:8080/",
          "height": 554
        },
        "id": "VG3cPy1UtT4j",
        "outputId": "238a7ea6-d2eb-44c8-d1cf-698c3625c4f8"
      },
      "execution_count": 4,
      "outputs": [
        {
          "output_type": "execute_result",
          "data": {
            "text/plain": [
              "0     1.13\n",
              "1     1.55\n",
              "2     1.43\n",
              "3     0.92\n",
              "4     1.25\n",
              "5     1.36\n",
              "6     1.32\n",
              "7     0.85\n",
              "8     1.07\n",
              "9     1.48\n",
              "10    1.20\n",
              "11    1.33\n",
              "12    1.18\n",
              "13    1.22\n",
              "14    1.29\n",
              "dtype: float64"
            ],
            "text/html": [
              "<div>\n",
              "<style scoped>\n",
              "    .dataframe tbody tr th:only-of-type {\n",
              "        vertical-align: middle;\n",
              "    }\n",
              "\n",
              "    .dataframe tbody tr th {\n",
              "        vertical-align: top;\n",
              "    }\n",
              "\n",
              "    .dataframe thead th {\n",
              "        text-align: right;\n",
              "    }\n",
              "</style>\n",
              "<table border=\"1\" class=\"dataframe\">\n",
              "  <thead>\n",
              "    <tr style=\"text-align: right;\">\n",
              "      <th></th>\n",
              "      <th>0</th>\n",
              "    </tr>\n",
              "  </thead>\n",
              "  <tbody>\n",
              "    <tr>\n",
              "      <th>0</th>\n",
              "      <td>1.13</td>\n",
              "    </tr>\n",
              "    <tr>\n",
              "      <th>1</th>\n",
              "      <td>1.55</td>\n",
              "    </tr>\n",
              "    <tr>\n",
              "      <th>2</th>\n",
              "      <td>1.43</td>\n",
              "    </tr>\n",
              "    <tr>\n",
              "      <th>3</th>\n",
              "      <td>0.92</td>\n",
              "    </tr>\n",
              "    <tr>\n",
              "      <th>4</th>\n",
              "      <td>1.25</td>\n",
              "    </tr>\n",
              "    <tr>\n",
              "      <th>5</th>\n",
              "      <td>1.36</td>\n",
              "    </tr>\n",
              "    <tr>\n",
              "      <th>6</th>\n",
              "      <td>1.32</td>\n",
              "    </tr>\n",
              "    <tr>\n",
              "      <th>7</th>\n",
              "      <td>0.85</td>\n",
              "    </tr>\n",
              "    <tr>\n",
              "      <th>8</th>\n",
              "      <td>1.07</td>\n",
              "    </tr>\n",
              "    <tr>\n",
              "      <th>9</th>\n",
              "      <td>1.48</td>\n",
              "    </tr>\n",
              "    <tr>\n",
              "      <th>10</th>\n",
              "      <td>1.20</td>\n",
              "    </tr>\n",
              "    <tr>\n",
              "      <th>11</th>\n",
              "      <td>1.33</td>\n",
              "    </tr>\n",
              "    <tr>\n",
              "      <th>12</th>\n",
              "      <td>1.18</td>\n",
              "    </tr>\n",
              "    <tr>\n",
              "      <th>13</th>\n",
              "      <td>1.22</td>\n",
              "    </tr>\n",
              "    <tr>\n",
              "      <th>14</th>\n",
              "      <td>1.29</td>\n",
              "    </tr>\n",
              "  </tbody>\n",
              "</table>\n",
              "</div><br><label><b>dtype:</b> float64</label>"
            ]
          },
          "metadata": {},
          "execution_count": 4
        }
      ]
    },
    {
      "cell_type": "markdown",
      "source": [
        "# **Steps : for confidance intervals**"
      ],
      "metadata": {
        "id": "dvyGaVWz0WtS"
      }
    },
    {
      "cell_type": "markdown",
      "source": [
        "Given data:\n",
        "Durability values (in millions):\n",
        "1.13, 1.55, 1.43, 0.92, 1.25, 1.36, 1.32, 0.85, 1.07, 1.48, 1.20, 1.33, 1.18, 1.22, 1.29\n",
        "1. Sample size (n) = 15\n",
        "2. Sample mean (\\bar{x}) ≈ 1.25\n",
        "3. Sample standard deviation (s) ≈ 0.19\n",
        "4. Degrees of freedom (df) = (n - 1 = 14)\n",
        "5. t-score for 99% confidence, df = 14 (t_{0.005, 14) ≈ 2.977) →\n",
        "You can find this value using a t-distribution table or calculator.\n",
        "6. Margin of error (ME) =\n",
        "[+\\times \\frac{s}{\\sqrt{n}} = 2.977 \\times \\frac{0.19}{\\sqrt{15}} ≈ 2.977 \\times 0.0491 ≈ 0.146]\n",
        "7. Confidence interval: [\\bar{x}\\pm ME = 1.25 \\pm 0.146]\n",
        "Final Answer:\n",
        "99% Confidence Interval:\n",
        "# (1.104 million, 1.396 million characters)"
      ],
      "metadata": {
        "id": "tkMCkw21zLhK"
      }
    },
    {
      "cell_type": "code",
      "source": [
        "print(\"mean of the durability :\",durability.mean())\n",
        "print(\"standard deviation of the durability :\",durability.std())\n",
        "print(\"variance of the durability :\",durability.var())"
      ],
      "metadata": {
        "colab": {
          "base_uri": "https://localhost:8080/"
        },
        "id": "pANNkbv0xPZB",
        "outputId": "48fddcf8-68e1-48bf-fc4e-9517927d72e8"
      },
      "execution_count": 8,
      "outputs": [
        {
          "output_type": "stream",
          "name": "stdout",
          "text": [
            "mean of the durability : 1.2386666666666666\n",
            "standard deviation of the durability : 0.19316412956959936\n",
            "variance of the durability : 0.037312380952380965\n"
          ]
        }
      ]
    },
    {
      "cell_type": "code",
      "source": [
        "print(\"length of intervals :\",len(durability))\n",
        "stats.t.interval(0.99, df=14)"
      ],
      "metadata": {
        "colab": {
          "base_uri": "https://localhost:8080/"
        },
        "id": "nUXeQaVWtzy5",
        "outputId": "a1b216df-7499-43c4-8d4d-19fee68282bb"
      },
      "execution_count": 12,
      "outputs": [
        {
          "output_type": "stream",
          "name": "stdout",
          "text": [
            "length of intervals : 15\n"
          ]
        },
        {
          "output_type": "execute_result",
          "data": {
            "text/plain": [
              "(np.float64(-2.976842734370834), np.float64(2.976842734370834))"
            ]
          },
          "metadata": {},
          "execution_count": 12
        }
      ]
    },
    {
      "cell_type": "code",
      "source": [
        "std_error = 1.23/np.sqrt(15)\n",
        "std_error"
      ],
      "metadata": {
        "colab": {
          "base_uri": "https://localhost:8080/"
        },
        "id": "rZb4Duliuaia",
        "outputId": "2e14c267-996b-4e50-b72e-52c10b6c7850"
      },
      "execution_count": 11,
      "outputs": [
        {
          "output_type": "execute_result",
          "data": {
            "text/plain": [
              "np.float64(0.3175846343890082)"
            ]
          },
          "metadata": {},
          "execution_count": 11
        }
      ]
    },
    {
      "cell_type": "code",
      "source": [
        "print(\"lower limit of 99% confidance interval :\",round(1.6 +(stats.t.interval(0.99, df = 14) [0])*(std_error),2))\n",
        "print(\"upper limit of 99% confidance interval :\",round(1.6 +(stats.t.interval(0.99, df = 14) [1])*(std_error),2))"
      ],
      "metadata": {
        "colab": {
          "base_uri": "https://localhost:8080/"
        },
        "id": "MiIgS79Zxpnw",
        "outputId": "2c8b6062-3f8e-45d4-caf3-3f21e8f0e224"
      },
      "execution_count": 15,
      "outputs": [
        {
          "output_type": "stream",
          "name": "stdout",
          "text": [
            "lower limit of 99% confidance interval : 0.65\n",
            "upper limit of 99% confidance interval : 2.55\n"
          ]
        }
      ]
    },
    {
      "cell_type": "code",
      "source": [
        "round(1-stats.t.cdf(stats.t.interval(0.99,df=14)[1],df=14),2)"
      ],
      "metadata": {
        "colab": {
          "base_uri": "https://localhost:8080/"
        },
        "id": "cETFBKLryHdW",
        "outputId": "aeb40707-deb5-4dbf-ecb8-ac404d36080e"
      },
      "execution_count": 16,
      "outputs": [
        {
          "output_type": "execute_result",
          "data": {
            "text/plain": [
              "np.float64(0.01)"
            ]
          },
          "metadata": {},
          "execution_count": 16
        }
      ]
    },
    {
      "cell_type": "code",
      "source": [],
      "metadata": {
        "id": "JggJOBLszFl-"
      },
      "execution_count": null,
      "outputs": []
    },
    {
      "cell_type": "markdown",
      "source": [
        "# Question .**b**"
      ],
      "metadata": {
        "id": "Dxf8NmTD2ij1"
      }
    },
    {
      "cell_type": "code",
      "source": [
        "print(\"durability data :\",durability)\n",
        "print(\"mean of the durability :\",durability.mean())\n",
        "print(\"standard deviation of the durability :\",durability.std())\n",
        "print(\"variance of the durability :\",durability.var())"
      ],
      "metadata": {
        "colab": {
          "base_uri": "https://localhost:8080/"
        },
        "id": "RiB1DSfl2qC1",
        "outputId": "d0cf9891-a014-4346-cad9-f7938d0837d0"
      },
      "execution_count": 18,
      "outputs": [
        {
          "output_type": "stream",
          "name": "stdout",
          "text": [
            "durability data : 0     1.13\n",
            "1     1.55\n",
            "2     1.43\n",
            "3     0.92\n",
            "4     1.25\n",
            "5     1.36\n",
            "6     1.32\n",
            "7     0.85\n",
            "8     1.07\n",
            "9     1.48\n",
            "10    1.20\n",
            "11    1.33\n",
            "12    1.18\n",
            "13    1.22\n",
            "14    1.29\n",
            "dtype: float64\n",
            "mean of the durability : 1.2386666666666666\n",
            "standard deviation of the durability : 0.19316412956959936\n",
            "variance of the durability : 0.037312380952380965\n"
          ]
        }
      ]
    },
    {
      "cell_type": "markdown",
      "source": [
        "**Given : **\n",
        "      mean = 1.23\n",
        "\n",
        "      sample size = 15\n",
        "      \n",
        "      population std = 0.2"
      ],
      "metadata": {
        "id": "FMy1KqbM3BBU"
      }
    },
    {
      "cell_type": "code",
      "source": [
        "\n",
        "plt.plot(stats.t.interval(0.99,df = 14))"
      ],
      "metadata": {
        "colab": {
          "base_uri": "https://localhost:8080/",
          "height": 447
        },
        "id": "D_Ifvrxg2qGX",
        "outputId": "dbfc2ed8-d06d-40d7-c3e8-84d9307a3db5"
      },
      "execution_count": 22,
      "outputs": [
        {
          "output_type": "execute_result",
          "data": {
            "text/plain": [
              "[<matplotlib.lines.Line2D at 0x7fbd2df8d710>]"
            ]
          },
          "metadata": {},
          "execution_count": 22
        },
        {
          "output_type": "display_data",
          "data": {
            "text/plain": [
              "<Figure size 640x480 with 1 Axes>"
            ],
            "image/png": "[encoded data removed]"
          },
          "metadata": {}
        }
      ]
    },
    {
      "cell_type": "code",
      "source": [
        "std_error = 1.23/np.sqrt(15)\n",
        "std_error"
      ],
      "metadata": {
        "colab": {
          "base_uri": "https://localhost:8080/"
        },
        "id": "0qw1QGjS32uU",
        "outputId": "8c27fde6-20bc-4d9c-96c1-20512f190fc6"
      },
      "execution_count": 23,
      "outputs": [
        {
          "output_type": "execute_result",
          "data": {
            "text/plain": [
              "np.float64(0.3175846343890082)"
            ]
          },
          "metadata": {},
          "execution_count": 23
        }
      ]
    },
    {
      "cell_type": "code",
      "source": [
        "print(\"lower limit of 99% confidance interval : \",round(1.6 +(stats.t.interval(0.99, df = 14) [0])*(std_error),2))\n",
        "print(\"lower limit of 99% confidance interval : \",round(1.6 +(stats.t.interval(0.99, df = 14) [1])*(std_error),2))"
      ],
      "metadata": {
        "colab": {
          "base_uri": "https://localhost:8080/"
        },
        "id": "lV8FjUoS4Xm5",
        "outputId": "2251d082-846e-4ccb-c807-82c19dba0e5b"
      },
      "execution_count": 24,
      "outputs": [
        {
          "output_type": "stream",
          "name": "stdout",
          "text": [
            "lower limit of 99% confidance interval :  0.65\n",
            "lower limit of 99% confidance interval :  2.55\n"
          ]
        }
      ]
    },
    {
      "cell_type": "code",
      "source": [
        "print(round(1-stats.t.cdf(stats.t.interval(0.99,df=14)[1],df=14),2))"
      ],
      "metadata": {
        "colab": {
          "base_uri": "https://localhost:8080/"
        },
        "id": "5wXMfCla42xC",
        "outputId": "ffd44908-4bdc-4b04-c05e-5d2654b70343"
      },
      "execution_count": 25,
      "outputs": [
        {
          "output_type": "stream",
          "name": "stdout",
          "text": [
            "0.01\n"
          ]
        }
      ]
    },
    {
      "cell_type": "code",
      "source": [],
      "metadata": {
        "id": "Sh5pGXpY5Agc"
      },
      "execution_count": null,
      "outputs": []
    }
  ]
}