{
  "nbformat": 4,
  "nbformat_minor": 0,
  "metadata": {
    "colab": {
      "provenance": []
    },
    "kernelspec": {
      "name": "python3",
      "display_name": "Python 3"
    },
    "language_info": {
      "name": "python"
    }
  },
  "cells": [
    {
      "cell_type": "code",
      "execution_count": null,
      "metadata": {
        "id": "0PrxYepV-Cvt"
      },
      "outputs": [],
      "source": []
    },
    {
      "cell_type": "markdown",
      "source": [
        "# **Q :1**\n",
        "Write a Python program that checks whether a given number is prime or not. A prime number is a natural number greater than 1 that has no positive divisors other than 1 and itself."
      ],
      "metadata": {
        "id": "xmYL6M1P-Eqk"
      }
    },
    {
      "cell_type": "code",
      "source": [
        "for i in range(100):\n",
        "  if i/1 and (i/i)==0:\n",
        "   print(i)\n",
        "print(i)"
      ],
      "metadata": {
        "colab": {
          "base_uri": "https://localhost:8080/"
        },
        "id": "84TylO20-MEW",
        "outputId": "bec36b10-b0b2-4397-ee90-002b1eef9978"
      },
      "execution_count": null,
      "outputs": [
        {
          "output_type": "stream",
          "name": "stdout",
          "text": [
            "99\n"
          ]
        }
      ]
    },
    {
      "cell_type": "code",
      "source": [
        "def is_prime(n):\n",
        "    if n < 2:\n",
        "        return False\n",
        "    for i in range(2, int(n**0.5) + 1):\n",
        "        if n % i == 0:\n",
        "            return False\n",
        "    return True\n",
        "\n",
        "def generate_primes(limit):\n",
        "    primes = [n for n in range(2, limit + 1) if is_prime(n)]\n",
        "    return primes\n",
        "\n",
        "# Example usage\n",
        "limit = 50\n",
        "print(\"Prime numbers up to\", limit, \":\", generate_primes(limit))\n"
      ],
      "metadata": {
        "colab": {
          "base_uri": "https://localhost:8080/"
        },
        "id": "Muoug34-_mx9",
        "outputId": "6ef375a5-24f8-40f2-a2b1-30d6aa45dcdb"
      },
      "execution_count": null,
      "outputs": [
        {
          "output_type": "stream",
          "name": "stdout",
          "text": [
            "Prime numbers up to 50 : [2, 3, 5, 7, 11, 13, 17, 19, 23, 29, 31, 37, 41, 43, 47]\n"
          ]
        }
      ]
    },
    {
      "cell_type": "markdown",
      "source": [
        "# **Q:2**\n",
        "Develop a Python program that generates two random numbers and asks the user to enter the product of these numbers. The program should then check if the user's answer is correct and display an appropriate message."
      ],
      "metadata": {
        "id": "3LpNMgsKNRlc"
      }
    },
    {
      "cell_type": "code",
      "source": [
        "import random\n",
        "\n",
        "def multiplication_quiz():\n",
        "    # Generate two random numbers\n",
        "    num1 = random.randint(1, 10)\n",
        "    num2 = random.randint(1, 10)\n",
        "\n",
        "    # Ask user for the product\n",
        "    user_answer = int(input(f\"What is {num1} × {num2}? : \"))\n",
        "\n",
        "    # Calculate the correct answer\n",
        "    correct_answer = num1 * num2\n",
        "\n",
        "    # Check if the user's answer is correct\n",
        "    if user_answer == correct_answer:\n",
        "        print(\"Correct! Well done! 🎉\")\n",
        "    else:\n",
        "        print(f\"Oops! The correct answer is {correct_answer}. Try again next time! 😊\")\n",
        "\n",
        "# Run the quiz\n",
        "multiplication_quiz()"
      ],
      "metadata": {
        "colab": {
          "base_uri": "https://localhost:8080/"
        },
        "id": "u7NtKparJJtG",
        "outputId": "1eedf22a-06f2-4c7e-eb90-0e0e13b25077"
      },
      "execution_count": null,
      "outputs": [
        {
          "output_type": "stream",
          "name": "stdout",
          "text": [
            "What is 4 × 5? : 20\n",
            "Correct! Well done! 🎉\n"
          ]
        }
      ]
    },
    {
      "cell_type": "markdown",
      "source": [
        "# **Q:3**\n",
        "Create a Python script that prints the squares of all even or odd numbers within the range of 100 to 200. Choose either even or odd numbers and document your choice in the code."
      ],
      "metadata": {
        "id": "e-uEl4vpPtda"
      }
    },
    {
      "cell_type": "code",
      "source": [
        "for num in range(100, 201):\n",
        "    if num % 2 == 0:  # Check if the number is even\n",
        "        print(f\"{num}^2 = {num**2}\")"
      ],
      "metadata": {
        "colab": {
          "base_uri": "https://localhost:8080/"
        },
        "id": "DBsZNCjJPjeW",
        "outputId": "a86b8dc5-df53-4089-ff34-a01ee7c21c30"
      },
      "execution_count": null,
      "outputs": [
        {
          "output_type": "stream",
          "name": "stdout",
          "text": [
            "100^2 = 10000\n",
            "102^2 = 10404\n",
            "104^2 = 10816\n",
            "106^2 = 11236\n",
            "108^2 = 11664\n",
            "110^2 = 12100\n",
            "112^2 = 12544\n",
            "114^2 = 12996\n",
            "116^2 = 13456\n",
            "118^2 = 13924\n",
            "120^2 = 14400\n",
            "122^2 = 14884\n",
            "124^2 = 15376\n",
            "126^2 = 15876\n",
            "128^2 = 16384\n",
            "130^2 = 16900\n",
            "132^2 = 17424\n",
            "134^2 = 17956\n",
            "136^2 = 18496\n",
            "138^2 = 19044\n",
            "140^2 = 19600\n",
            "142^2 = 20164\n",
            "144^2 = 20736\n",
            "146^2 = 21316\n",
            "148^2 = 21904\n",
            "150^2 = 22500\n",
            "152^2 = 23104\n",
            "154^2 = 23716\n",
            "156^2 = 24336\n",
            "158^2 = 24964\n",
            "160^2 = 25600\n",
            "162^2 = 26244\n",
            "164^2 = 26896\n",
            "166^2 = 27556\n",
            "168^2 = 28224\n",
            "170^2 = 28900\n",
            "172^2 = 29584\n",
            "174^2 = 30276\n",
            "176^2 = 30976\n",
            "178^2 = 31684\n",
            "180^2 = 32400\n",
            "182^2 = 33124\n",
            "184^2 = 33856\n",
            "186^2 = 34596\n",
            "188^2 = 35344\n",
            "190^2 = 36100\n",
            "192^2 = 36864\n",
            "194^2 = 37636\n",
            "196^2 = 38416\n",
            "198^2 = 39204\n",
            "200^2 = 40000\n"
          ]
        }
      ]
    },
    {
      "cell_type": "markdown",
      "source": [
        "## **Q:4**\n",
        "write a program to count the number of words in a given text.\n",
        "example:\n",
        "input_text = \"This is a sample text. This text will be used to demonstrate the word counter.\"\n"
      ],
      "metadata": {
        "id": "vEcYB7jMSJz3"
      }
    },
    {
      "cell_type": "code",
      "source": [
        "from ctypes import c_char\n",
        "input_text = \"This is a sample text. This text will be used to demonstrate the word counter.\"\n",
        "words = input_text.split()\n",
        "word_count = len(words)\n",
        "print(\"Number of words in the text:\", word_count)\n",
        "word = input(f\"enter new word in above text : {input_text}\")\n",
        "lengthofword = len(word)\n",
        "print(f\"length of word is : {lengthofword}\")"
      ],
      "metadata": {
        "colab": {
          "base_uri": "https://localhost:8080/"
        },
        "id": "Rpz4TnqFQnvT",
        "outputId": "6e47404e-85f8-4668-da25-cdbf40430335"
      },
      "execution_count": null,
      "outputs": [
        {
          "output_type": "stream",
          "name": "stdout",
          "text": [
            "Number of words in the text: 15\n",
            "enter new word in above text : This is a sample text. This text will be used to demonstrate the word counter.This\n",
            "length of word is : 4\n"
          ]
        }
      ]
    },
    {
      "cell_type": "code",
      "source": [
        "def count_words(text):\n",
        "    words = text.split()  # Splitting the text by spaces to get words\n",
        "    return len(words)  # Counting the number of words\n",
        "\n",
        "# Example usage\n",
        "input_text = \"This is a sample text. This text will be used to demonstrate the word counter.\"\n",
        "word_count = count_words(input_text)\n",
        "\n",
        "print(f\"Number of words: {word_count}\")\n"
      ],
      "metadata": {
        "colab": {
          "base_uri": "https://localhost:8080/"
        },
        "id": "lXBEkjiySv1W",
        "outputId": "7eadf93a-4058-4975-ea52-d68806f9ce1c"
      },
      "execution_count": null,
      "outputs": [
        {
          "output_type": "stream",
          "name": "stdout",
          "text": [
            "Number of words: 15\n"
          ]
        }
      ]
    },
    {
      "cell_type": "code",
      "source": [
        "from collections import Counter\n",
        "import re\n",
        "\n",
        "def count_word_frequency(text):\n",
        "    # Convert text to lowercase and remove punctuation\n",
        "    text = re.sub(r'[^\\w\\s]', '', text.lower())\n",
        "\n",
        "    # Split text into words\n",
        "    words = text.split()\n",
        "\n",
        "    # Count word occurrences\n",
        "    word_counts = Counter(words)\n",
        "\n",
        "    return word_counts\n",
        "\n",
        "# Example usage\n",
        "input_text = \"This is a sample text. This text will be used to demonstrate the word counter.\"\n",
        "word_frequencies = count_word_frequency(input_text)\n",
        "\n",
        "# Print results\n",
        "for word, count in word_frequencies.items():\n",
        "    print(f\"'{word}': {count}\")"
      ],
      "metadata": {
        "colab": {
          "base_uri": "https://localhost:8080/"
        },
        "id": "JLWUNTGPUsZR",
        "outputId": "cf0ebc77-d6ec-48b0-8418-7a359e6f0f9f"
      },
      "execution_count": null,
      "outputs": [
        {
          "output_type": "stream",
          "name": "stdout",
          "text": [
            "'this': 2\n",
            "'is': 1\n",
            "'a': 1\n",
            "'sample': 1\n",
            "'text': 2\n",
            "'will': 1\n",
            "'be': 1\n",
            "'used': 1\n",
            "'to': 1\n",
            "'demonstrate': 1\n",
            "'the': 1\n",
            "'word': 1\n",
            "'counter': 1\n"
          ]
        }
      ]
    },
    {
      "cell_type": "markdown",
      "source": [
        "# **Q:5**\n",
        "Write a Python function called is_palindrome that takes a string as input and returns True if the string is a palindrome, and False otherwise. A palindrome is a word, phrase, number, or other sequence of characters that reads the same forward and backward, ignoring spaces, punctuation, and capitalization. Example: Input: \"racecar\" Expected Output: True\n"
      ],
      "metadata": {
        "id": "mT9jN0PWVkc6"
      }
    },
    {
      "cell_type": "code",
      "source": [
        "import re\n",
        "\n",
        "def is_palindrome(text):\n",
        "    # Normalize the string: remove non-alphanumeric characters and convert to lowercase\n",
        "    cleaned_text = re.sub(r'[^a-zA-Z0-9]', '', text.lower())\n",
        "\n",
        "    # Check if cleaned text reads the same forward and backward\n",
        "    return cleaned_text == cleaned_text[::-1]\n",
        "\n",
        "# Example usage\n",
        "input_text = \"racecar\"\n",
        "print(is_palindrome(input_text))  # Expected Output: True"
      ],
      "metadata": {
        "colab": {
          "base_uri": "https://localhost:8080/"
        },
        "id": "XitAiy8GUtcY",
        "outputId": "a01e115d-254e-4201-bb33-51519ff62e19"
      },
      "execution_count": null,
      "outputs": [
        {
          "output_type": "stream",
          "name": "stdout",
          "text": [
            "True\n"
          ]
        }
      ]
    }
  ]
}