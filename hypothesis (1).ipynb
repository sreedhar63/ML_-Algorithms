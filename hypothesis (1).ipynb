{
  "nbformat": 4,
  "nbformat_minor": 0,
  "metadata": {
    "colab": {
      "provenance": []
    },
    "kernelspec": {
      "name": "python3",
      "display_name": "Python 3"
    },
    "language_info": {
      "name": "python"
    }
  },
  "cells": [
    {
      "cell_type": "markdown",
      "source": [
        "# CHI-SQUARE-**TEST**"
      ],
      "metadata": {
        "id": "6Y-P44Mco5x5"
      }
    },
    {
      "cell_type": "code",
      "source": [
        "import pandas as pd\n",
        "import numpy as np\n",
        "from scipy.stats import chi2_contingency\n",
        "\n",
        "# 1. Prepare the observed contingency table\n",
        "data = {\n",
        "    'Smart Thermostat': [50, 80, 60, 30, 20],\n",
        "    'Smart Light':      [70, 100, 90, 50, 50]\n",
        "}\n",
        "index = [\n",
        "    'Very Satisfied',\n",
        "    'Satisfied',\n",
        "    'Neutral',\n",
        "    'Unsatisfied',\n",
        "    'Very Unsatisfied'\n",
        "]\n",
        "observed = pd.DataFrame(data, index=index)\n"
      ],
      "metadata": {
        "id": "blgcv1Xpn6F6"
      },
      "execution_count": 10,
      "outputs": []
    },
    {
      "cell_type": "code",
      "source": [
        "\n",
        "print(\"Observed contingency table:\")\n",
        "print(observed, \"\\n\")"
      ],
      "metadata": {
        "colab": {
          "base_uri": "https://localhost:8080/"
        },
        "id": "_njvUvmIohuL",
        "outputId": "4b7246ee-fbd9-4062-9856-8885cddc5f6b"
      },
      "execution_count": 11,
      "outputs": [
        {
          "output_type": "stream",
          "name": "stdout",
          "text": [
            "Observed contingency table:\n",
            "                  Smart Thermostat  Smart Light\n",
            "Very Satisfied                  50           70\n",
            "Satisfied                       80          100\n",
            "Neutral                         60           90\n",
            "Unsatisfied                     30           50\n",
            "Very Unsatisfied                20           50 \n",
            "\n"
          ]
        }
      ]
    },
    {
      "cell_type": "code",
      "source": [
        "# 2. Perform Chi-Square test\n",
        "chi2, p_value, dof, expected = chi2_contingency(observed, correction=False)"
      ],
      "metadata": {
        "id": "4SGfhRNrohw8"
      },
      "execution_count": 12,
      "outputs": []
    },
    {
      "cell_type": "code",
      "source": [
        "print(\"Chi-square statistic:\", chi2)\n",
        "print(\"p-value:\", p_value)\n",
        "print(\"Degrees of freedom:\", dof)\n",
        "print(\"\\nExpected frequencies:\")\n",
        "print(pd.DataFrame(expected, index=index, columns=observed.columns))"
      ],
      "metadata": {
        "colab": {
          "base_uri": "https://localhost:8080/"
        },
        "id": "PwDto2mBohzj",
        "outputId": "f7f16d3d-e8a5-4440-a310-0efd2057c640"
      },
      "execution_count": 13,
      "outputs": [
        {
          "output_type": "stream",
          "name": "stdout",
          "text": [
            "Chi-square statistic: 5.638227513227513\n",
            "p-value: 0.22784371130697179\n",
            "Degrees of freedom: 4\n",
            "\n",
            "Expected frequencies:\n",
            "                  Smart Thermostat  Smart Light\n",
            "Very Satisfied                48.0         72.0\n",
            "Satisfied                     72.0        108.0\n",
            "Neutral                       60.0         90.0\n",
            "Unsatisfied                   32.0         48.0\n",
            "Very Unsatisfied              28.0         42.0\n"
          ]
        }
      ]
    },
    {
      "cell_type": "code",
      "source": [
        "# 3. Compare to critical value at alpha=0.05\n",
        "from scipy.stats import chi2 as chi2_dist\n",
        "alpha = 0.05\n",
        "critical = chi2_dist.ppf(1 - alpha, dof)\n",
        "print(f\"\\nCritical value (α={alpha}, df={dof}):\", critical)"
      ],
      "metadata": {
        "colab": {
          "base_uri": "https://localhost:8080/"
        },
        "id": "_8-SRe2Roh1y",
        "outputId": "6b3d734a-8b08-4c05-e4e6-992aa6c08475"
      },
      "execution_count": 14,
      "outputs": [
        {
          "output_type": "stream",
          "name": "stdout",
          "text": [
            "\n",
            "Critical value (α=0.05, df=4): 9.487729036781154\n"
          ]
        }
      ]
    },
    {
      "cell_type": "code",
      "source": [
        "# 4. Decision\n",
        "if chi2 > critical:\n",
        "    print(\"\\nResult: χ² > critical value → reject H0 (device type affects satisfaction)\")\n",
        "else:\n",
        "    print(\"\\nResult: χ² ≤ critical value → fail to reject H0 (no evidence device type affects satisfaction)\")\n",
        "\n",
        "print(f\"Alternatively, since p-value = {p_value:.4f} {'<' if p_value < alpha else '>'} α = {alpha},\",\n",
        "      f\"{'reject' if p_value < alpha else 'fail to reject'} H0\")\n"
      ],
      "metadata": {
        "colab": {
          "base_uri": "https://localhost:8080/"
        },
        "id": "dnLziwrAoh5J",
        "outputId": "d1ca338c-c218-41a9-9bc5-d092df4acbb6"
      },
      "execution_count": 15,
      "outputs": [
        {
          "output_type": "stream",
          "name": "stdout",
          "text": [
            "\n",
            "Result: χ² ≤ critical value → fail to reject H0 (no evidence device type affects satisfaction)\n",
            "Alternatively, since p-value = 0.2278 > α = 0.05, fail to reject H0\n"
          ]
        }
      ]
    },
    {
      "cell_type": "markdown",
      "source": [
        "# HYPOTHESIS **TESING**"
      ],
      "metadata": {
        "id": "7cLwl94qp4o5"
      }
    },
    {
      "cell_type": "code",
      "source": [
        "import math\n",
        "from scipy.stats import norm\n",
        "\n",
        "# 1. Given values\n",
        "x_bar = 3050          # sample mean cost (Rs)\n",
        "X_mean = 600          # mean units produced\n"
      ],
      "metadata": {
        "id": "uEkilc0sn6JT"
      },
      "execution_count": 16,
      "outputs": []
    },
    {
      "cell_type": "code",
      "source": [
        "mu_theoretical = 1000 + 5 * X_mean  # = 1000 + 5*600 = 4000\n",
        "sigma_units = 25      # σ of units\n",
        "sigma = 5 * sigma_units  # standard deviation of W = 125\n",
        "n = 25                # sample size\n",
        "alpha = 0.05"
      ],
      "metadata": {
        "id": "moGGTnL8pfdO"
      },
      "execution_count": 17,
      "outputs": []
    },
    {
      "cell_type": "code",
      "source": [
        "standard_error = sigma / math.sqrt(n)\n",
        "z_stat = (x_bar - mu_theoretical) / standard_error"
      ],
      "metadata": {
        "id": "nD0SOlXLpfiX"
      },
      "execution_count": 18,
      "outputs": []
    },
    {
      "cell_type": "code",
      "source": [
        "z_crit = norm.ppf(1 - alpha)"
      ],
      "metadata": {
        "id": "Y3CGs0z5pfxl"
      },
      "execution_count": 19,
      "outputs": []
    },
    {
      "cell_type": "code",
      "source": [
        "reject = z_stat > z_crit"
      ],
      "metadata": {
        "id": "z3Pk6wyMpf1A"
      },
      "execution_count": 20,
      "outputs": []
    },
    {
      "cell_type": "code",
      "source": [
        "print(f\"Theoretical mean (μ₀)      : {mu_theoretical}\")\n",
        "print(f\"Sample mean (x̄)           : {x_bar}\")\n",
        "print(f\"σ (of W)                   : {sigma}\")\n",
        "print(f\"Standard error (σ/√n)     : {standard_error:.2f}\")\n",
        "print(f\"Test statistic (z)         : {z_stat:.2f}\")\n",
        "print(f\"Critical value (zₐ at 0.05): {z_crit:.3f}\")\n",
        "print(f\"Reject H₀?                 : {'Yes' if reject else 'No'}\")"
      ],
      "metadata": {
        "colab": {
          "base_uri": "https://localhost:8080/"
        },
        "id": "sWhw_93bpqBy",
        "outputId": "01233463-4070-4745-c3e5-2a06d8677200"
      },
      "execution_count": 21,
      "outputs": [
        {
          "output_type": "stream",
          "name": "stdout",
          "text": [
            "Theoretical mean (μ₀)      : 4000\n",
            "Sample mean (x̄)           : 3050\n",
            "σ (of W)                   : 125\n",
            "Standard error (σ/√n)     : 25.00\n",
            "Test statistic (z)         : -38.00\n",
            "Critical value (zₐ at 0.05): 1.645\n",
            "Reject H₀?                 : No\n"
          ]
        }
      ]
    },
    {
      "cell_type": "code",
      "source": [
        "if reject:\n",
        "    print(\"→ Reject H₀: evidence suggests weekly costs are higher.\")\n",
        "else:\n",
        "    print(\"→ Fail to reject H₀: no strong evidence costs exceed model.\")"
      ],
      "metadata": {
        "colab": {
          "base_uri": "https://localhost:8080/"
        },
        "id": "rcTqUJhWpqFH",
        "outputId": "cb6a6ed8-9963-4bfa-e32a-16124ea9f63e"
      },
      "execution_count": 22,
      "outputs": [
        {
          "output_type": "stream",
          "name": "stdout",
          "text": [
            "→ Fail to reject H₀: no strong evidence costs exceed model.\n"
          ]
        }
      ]
    }
  ]
}